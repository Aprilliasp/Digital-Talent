{
 "cells": [
  {
   "cell_type": "code",
   "execution_count": 5,
   "metadata": {},
   "outputs": [
    {
     "name": "stdout",
     "output_type": "stream",
     "text": [
      "Berat Badan Anda: 41.0\n",
      "Tinggi Badan Anda: 148.0\n",
      "Body Mass Index: 18.718042366691016\n",
      "Normal(Healthy weight)\n"
     ]
    }
   ],
   "source": [
    "tinggi_badan = 148.0\n",
    "berat_badan  = 41.0\n",
    "tinggi = tinggi_badan*0.01\n",
    "BMI = berat_badan/tinggi**2\n",
    "\n",
    "print(\"Berat Badan Anda:\", berat_badan)\n",
    "print(\"Tinggi Badan Anda:\", tinggi_badan)\n",
    "print(\"Body Mass Index:\", BMI)\n",
    "\n",
    "if BMI<15:\n",
    "    print(\"Very Severely underweight\")\n",
    "elif BMI >=15 and BMI <16:\n",
    "    print(\"Severely underweight\")\n",
    "elif BMI >=16 and BMI <18.5:\n",
    "    print(\"underweight\")\n",
    "elif BMI >=18.5 and BMI <25:\n",
    "    print(\"Normal(Healthy weight)\") \n",
    "elif BMI >=25 and BMI <30:\n",
    "    print(\"Overweight)\") \n",
    "elif BMI >=30 and BMI <35:\n",
    "    print(\"Moderately obese\") \n",
    "elif BMI >=35 and BMI <40:\n",
    "    print(\"Severely obese\")\n",
    "elif BMI >40:\n",
    "    print(\"Very severely obese\") "
   ]
  },
  {
   "cell_type": "code",
   "execution_count": null,
   "metadata": {},
   "outputs": [],
   "source": []
  }
 ],
 "metadata": {
  "kernelspec": {
   "display_name": "Python 3",
   "language": "python",
   "name": "python3"
  },
  "language_info": {
   "codemirror_mode": {
    "name": "ipython",
    "version": 3
   },
   "file_extension": ".py",
   "mimetype": "text/x-python",
   "name": "python",
   "nbconvert_exporter": "python",
   "pygments_lexer": "ipython3",
   "version": "3.7.0"
  }
 },
 "nbformat": 4,
 "nbformat_minor": 2
}

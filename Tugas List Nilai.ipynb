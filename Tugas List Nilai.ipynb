{
 "cells": [
  {
   "cell_type": "code",
   "execution_count": 1,
   "metadata": {},
   "outputs": [
    {
     "name": "stdout",
     "output_type": "stream",
     "text": [
      "[85, 45, 15, 60, 2, 31, 34, 71, 84, 2, 2, 68, 91, 82, 25, 70, 20, 25, 49, 77, 90, 37, 85, 37, 45, 38, 87, 19, 9, 6, 54, 93, 77, 51, 11, 51, 19, 85, 43, 75, 16, 73, 87, 39, 4, 98, 37, 68, 27, 92, 11, 26, 20, 65, 15, 46, 64, 24, 42, 21, 13, 51, 94, 23, 40, 23, 25, 31, 35, 93, 34, 12, 49, 45, 91, 14, 4, 7, 95, 51, 92, 7, 80, 25, 99, 22, 1, 92, 61, 16, 22, 83, 31, 56, 8, 26, 54, 54, 13, 28, 88, 7, 28, 18, 85, 99, 22, 67, 96, 49, 44, 70, 25, 49, 39, 65, 19, 93, 36, 54, 30, 45, 66, 53, 23, 12, 29, 57, 33, 87, 95, 15, 40, 40, 95, 61, 71, 56, 54, 27, 1, 61, 79, 21, 80, 87, 41, 37, 11, 52, 37, 38, 19, 39, 78, 87, 73, 33, 65, 58, 45, 26, 15, 3, 99, 68, 98, 90, 57, 99, 64, 30, 50, 30, 46, 30, 30, 8, 6, 95, 34, 67, 5, 97, 1, 25, 87, 68, 88, 21, 37, 94, 81, 92, 98, 28, 65, 34, 42, 90, 68, 89, 15, 12, 35, 43, 78, 23, 58, 46, 28, 17, 79, 43, 33, 24, 94, 47, 83, 20, 39, 55, 96, 76, 14, 97, 89, 31, 87, 81, 55, 73, 63, 47, 18, 51, 15, 55, 8, 22, 78, 2, 27, 95, 77, 60, 79, 88, 86, 4]\n"
     ]
    }
   ],
   "source": [
    "#import random\n",
    "\n",
    "nilai = []\n",
    "for i in range(250):\n",
    "    nilai.append(random.randrange(1,100,1))\n",
    "print(nilai)"
   ]
  },
  {
   "cell_type": "code",
   "execution_count": 8,
   "metadata": {},
   "outputs": [
    {
     "name": "stdout",
     "output_type": "stream",
     "text": [
      "Daftar List Nilai Ganjil:\n",
      "Hasil: [85, 45, 15, 31, 71, 91, 25, 25, 49, 77, 37, 85, 37, 45, 87, 19, 9, 93, 77, 51, 11, 51, 19, 85, 43, 75, 73, 87, 39, 37, 27, 11, 65, 15, 21, 13, 51, 23, 23, 25, 31, 35, 93, 49, 45, 91, 7, 95, 51, 7, 25, 99, 1, 61, 83, 31, 13, 7, 85, 99, 67, 49, 25, 49, 39, 65, 19, 93, 45, 53, 23, 29, 57, 33, 87, 95, 15, 95, 61, 71, 27, 1, 61, 79, 21, 87, 41, 37, 11, 37, 19, 39, 87, 73, 33, 65, 45, 15, 3, 99, 57, 99, 95, 67, 5, 97, 1, 25, 87, 21, 37, 81, 65, 89, 15, 35, 43, 23, 17, 79, 43, 33, 47, 83, 39, 55, 97, 89, 31, 87, 81, 55, 73, 63, 47, 51, 15, 55, 27, 95, 77, 79]\n"
     ]
    }
   ],
   "source": [
    "# Angka Ganjil\n",
    "angkaganjil = []\n",
    "for n in nilai:\n",
    "    if n % 2 == 1:\n",
    "        angkaganjil.append(n)\n",
    "print('Daftar List Nilai Ganjil:')\n",
    "print('Hasil:',angkaganjil)\n",
    "        "
   ]
  },
  {
   "cell_type": "code",
   "execution_count": 12,
   "metadata": {},
   "outputs": [
    {
     "name": "stdout",
     "output_type": "stream",
     "text": [
      "TERDAPAT NILAI LEBIH DARI 70:\n",
      "Hasil: 45\n"
     ]
    }
   ],
   "source": [
    "# lebih dari 70\n",
    "lebihdari70 = []\n",
    "for n in nilai:\n",
    "    if n > 70:\n",
    "        lebihdari70.append(n)\n",
    "y = len(lebihdari70)\n",
    "\n",
    "nilaiganjillebihdari70 = []\n",
    "for v in angkaganjil:\n",
    "    if v > 70:\n",
    "        nilaiganjillebihdari70.append(v)\n",
    "z = len(nilaiganjillebihdari70)\n",
    "\n",
    "print('TERDAPAT NILAI LEBIH DARI 70:')\n",
    "print('Hasil:',z)"
   ]
  },
  {
   "cell_type": "code",
   "execution_count": 13,
   "metadata": {},
   "outputs": [
    {
     "name": "stdout",
     "output_type": "stream",
     "text": [
      "STANDAR DEVIASI: 29.351600737667678\n"
     ]
    }
   ],
   "source": [
    "# standar deviasi\n",
    "jumlah = 0\n",
    "for n in nilai :\n",
    "    jumlah = jumlah + n\n",
    "\n",
    "rerata = jumlah / len(nilai)\n",
    "totjum = 0\n",
    "for n in nilai:\n",
    "    p = (n - rerata)**2\n",
    "    totjum = totjum + p\n",
    "\n",
    "standardeviasi = (totjum / (len(nilai) -1))**0.5\n",
    "print(\"STANDAR DEVIASI:\",standardeviasi)"
   ]
  },
  {
   "cell_type": "code",
   "execution_count": 16,
   "metadata": {},
   "outputs": [
    {
     "name": "stdout",
     "output_type": "stream",
     "text": [
      "Nilai Tertinggi yaitu Nilai Maksimun: 99\n",
      "Nilai Terendah yaitu Nilai Minimum: 1\n"
     ]
    }
   ],
   "source": [
    "# maksimum\n",
    "print(\"Nilai Tertinggi yaitu Nilai Maksimun:\", max(nilai))\n",
    "\n",
    "# minimum\n",
    "print(\"Nilai Terendah yaitu Nilai Minimum:\", min(nilai))"
   ]
  },
  {
   "cell_type": "code",
   "execution_count": 22,
   "metadata": {},
   "outputs": [
    {
     "name": "stdout",
     "output_type": "stream",
     "text": [
      "Nilai modus yang sering muncul adalah  87\n"
     ]
    }
   ],
   "source": [
    "# modus\n",
    "nilaimaksimal=0\n",
    "modus={}\n",
    "for i in nilai:\n",
    "    count= nilai.count(i)\n",
    "    modus.update({i:count})\n",
    "\n",
    "for key in modus:\n",
    "    if modus[key]>nilaimaksimal:\n",
    "        nilaimaksimal=modus[key]\n",
    "\n",
    "for key in modus:\n",
    "    if modus[key]==nilaimaksimal:\n",
    "         print(\"Nilai modus yang sering muncul adalah \", key)\n",
    "\n"
   ]
  },
  {
   "cell_type": "code",
   "execution_count": null,
   "metadata": {},
   "outputs": [],
   "source": []
  }
 ],
 "metadata": {
  "kernelspec": {
   "display_name": "Python 3",
   "language": "python",
   "name": "python3"
  },
  "language_info": {
   "codemirror_mode": {
    "name": "ipython",
    "version": 3
   },
   "file_extension": ".py",
   "mimetype": "text/x-python",
   "name": "python",
   "nbconvert_exporter": "python",
   "pygments_lexer": "ipython3",
   "version": "3.7.0"
  }
 },
 "nbformat": 4,
 "nbformat_minor": 2
}
